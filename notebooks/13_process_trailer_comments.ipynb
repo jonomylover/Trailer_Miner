{
 "cells": [
  {
   "cell_type": "markdown",
   "metadata": {},
   "source": [
    "# Trailer comments pre-processing.\n",
    "\n",
    "- Clean-up records: remove comments whose text is null.\n",
    "- Generate sentiment score: using pre-trained model to generate a sentiment score for each comment.\n",
    "- Label whether use the a comment for training (if a comment is made after the cutoff_date, it shouldn't be used for training)\n"
   ]
  },
  {
   "cell_type": "code",
   "execution_count": 1,
   "metadata": {},
   "outputs": [],
   "source": [
    "import pandas as pd\n",
    "import time\n",
    "import json\n",
    "import matplotlib.pyplot as plt\n",
    "import datetime\n",
    "import os\n",
    "import random\n",
    "from textblob import TextBlob\n",
    "\n",
    "from multiprocessing import Pool, cpu_count\n",
    "from functools import partial\n",
    "\n",
    "# for auto reload a module after editing.\n",
    "%load_ext autoreload\n",
    "%autoreload 2"
   ]
  },
  {
   "cell_type": "code",
   "execution_count": 91,
   "metadata": {},
   "outputs": [
    {
     "name": "stdout",
     "output_type": "stream",
     "text": [
      "1805\n"
     ]
    }
   ],
   "source": [
    "trailer_comments_in_dir = \"./data/trailer_comments_raw\"\n",
    "trailer_comments_out_dir = \"./data/trailer_comments\"\n",
    "\n",
    "trailer_list_file = \"./data/trailer_list/trailer_list_2014-2019.csv\"\n",
    "trailer_list_df = pd.read_csv(trailer_list_file)\n",
    "f_list = [f for f in os.listdir(trailer_comments_in_dir) if f[-4:] == '.csv']\n",
    "print(len(f_list))"
   ]
  },
  {
   "cell_type": "code",
   "execution_count": 2,
   "metadata": {},
   "outputs": [],
   "source": [
    "def process_comment_df(f):\n",
    "    df = pd.read_csv(os.path.join(trailer_comments_in_dir, f))\n",
    "\n",
    "    # Remove null records.\n",
    "    df = df[~df.text.isnull()].reset_index(drop=True)\n",
    "\n",
    "    # Get sentiment score.\n",
    "    df.loc[:, 'sentiment_score'] = df.loc[:, 'text'].apply(lambda x: TextBlob(x).sentiment.polarity)\n",
    "\n",
    "    trailer_id = df.trailer_id[0]\n",
    "    movie_release_date = trailer_list_df[trailer_list_df.trailer_id == trailer_id].release_date.iloc[0]\n",
    "    df.loc[:, 'datetime'] = pd.to_datetime(df.loc[:, 'timestamp'], format=\"%Y-%m-%dT%H:%M:%S\")\n",
    "    release_date = datetime.datetime.strptime(movie_release_date, \"%Y-%m-%d\")\n",
    "    model_cutoff_date = pd.Timestamp(release_date - datetime.timedelta(days=7))\n",
    "    visualize_cutoff_date = pd.Timestamp(release_date + datetime.timedelta(days=90))\n",
    "    df.loc[:, 'used_for_model'] = df.loc[:, 'datetime'].apply(lambda x : x < model_cutoff_date)\n",
    "    df.loc[:, 'used_for_visualization'] = df.loc[:, 'datetime'].apply(lambda x : x < visualize_cutoff_date)\n",
    "    df = df.sort_values('datetime').reset_index(drop=True)\n",
    "    df.to_csv(os.path.join(trailer_comments_out_dir, f), index=False)"
   ]
  },
  {
   "cell_type": "code",
   "execution_count": 93,
   "metadata": {},
   "outputs": [
    {
     "name": "stdout",
     "output_type": "stream",
     "text": [
      "Finished. Time: 1095.4 s.\n"
     ]
    }
   ],
   "source": [
    "t0 = time.time()\n",
    "with Pool(cpu_count()) as p:  \n",
    "    p.map(process_comment_df, f_list)\n",
    "t1 = time.time()\n",
    "print(\"Finished. Time: {0:.1f} s.\".format(t1 - t0))"
   ]
  },
  {
   "cell_type": "code",
   "execution_count": null,
   "metadata": {},
   "outputs": [],
   "source": []
  }
 ],
 "metadata": {
  "kernelspec": {
   "display_name": "Python 3",
   "language": "python",
   "name": "python3"
  },
  "language_info": {
   "codemirror_mode": {
    "name": "ipython",
    "version": 3
   },
   "file_extension": ".py",
   "mimetype": "text/x-python",
   "name": "python",
   "nbconvert_exporter": "python",
   "pygments_lexer": "ipython3",
   "version": "3.7.6"
  }
 },
 "nbformat": 4,
 "nbformat_minor": 4
}
