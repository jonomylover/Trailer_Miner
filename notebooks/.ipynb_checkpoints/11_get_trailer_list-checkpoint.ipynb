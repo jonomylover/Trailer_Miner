{
 "cells": [
  {
   "cell_type": "markdown",
   "metadata": {},
   "source": [
    "# Get trailer list\n",
    "\n",
    "Given the list of movie titles, get the corresponding trailer id and statistics using Youtube Data API.\n",
    "- Use the 'search' module of Youtube Data API to search the trailers for a movie.\n",
    "- Use the 'videos' module of Youtube Data API to get the statistics (view count, comment count, etc) for each trailer.\n",
    "- One movie may have multiple trailers. Store all the trailer info in a df.\n",
    "- Prune the trailer list."
   ]
  },
  {
   "cell_type": "code",
   "execution_count": 1,
   "metadata": {},
   "outputs": [],
   "source": [
    "import pandas as pd\n",
    "import time\n",
    "import json\n",
    "import matplotlib.pyplot as plt\n",
    "\n",
    "from multiprocessing import Pool, cpu_count\n",
    "\n",
    "from apiclient.discovery import build\n",
    "from youtube_api import *\n",
    "\n",
    "# for auto reload a module after editing.\n",
    "%load_ext autoreload\n",
    "%autoreload 2"
   ]
  },
  {
   "cell_type": "code",
   "execution_count": 3,
   "metadata": {},
   "outputs": [],
   "source": [
    "key_file_0 = \"./private_api_key/youtube_data_API_key.txt\"\n",
    "api_key_0 = open(key_file_0, \"r\").read()\n",
    "youtube_0 = build('youtube', 'v3', developerKey=api_key_0)\n",
    "\n",
    "key_file_list = \"./private_api_key/youtube_data_API_key_list.txt\"\n",
    "api_key_list = [k for k in open(key_file_list, \"r\").read().split('\\n') if len(k) > 15]\n",
    "youtube_list = [build('youtube', 'v3', developerKey=k) for k in api_key_list]"
   ]
  },
  {
   "cell_type": "code",
   "execution_count": 6,
   "metadata": {},
   "outputs": [],
   "source": [
    "movie_df = pd.read_csv(\"./data/movie_list/metadata_2014-2019.csv\")"
   ]
  },
  {
   "cell_type": "code",
   "execution_count": 7,
   "metadata": {},
   "outputs": [
    {
     "data": {
      "text/plain": [
       "(705, 16)"
      ]
     },
     "execution_count": 7,
     "metadata": {},
     "output_type": "execute_result"
    }
   ],
   "source": [
    "movie_df.shape"
   ]
  },
  {
   "cell_type": "markdown",
   "metadata": {},
   "source": [
    "### Step 1: Search all trailer candidates"
   ]
  },
  {
   "cell_type": "code",
   "execution_count": 72,
   "metadata": {},
   "outputs": [],
   "source": [
    "trailer_df = pd.DataFrame(columns=['tt_id', 'movie_title', 'release_date', \\\n",
    "                                   'trailer_id', 'trailer_publishTime', 'trailer_title',\\\n",
    "                                   'viewCount', 'commentCount', 'likeCount', 'dislikeCount', 'favoriteCount'\n",
    "                                  ])"
   ]
  },
  {
   "cell_type": "code",
   "execution_count": 73,
   "metadata": {},
   "outputs": [],
   "source": [
    "row = 0\n",
    "for i in range(0, movie_df.shape[0]):\n",
    "    youtube = youtube_list[int(i/70)]\n",
    "    tt_id = movie_df.tt_id.iloc[i]\n",
    "    movie_name = movie_df.Title.iloc[i]\n",
    "    if movie_name == \"Birdman or (The Unexpected Virtue of Ignorance)\":\n",
    "        movie_name = \"Birdman\"\n",
    "    movie_release_date = movie_df.release_date.iloc[i]\n",
    "    trailer_dict, _ = get_trailer_ids(movie_name, movie_release_date, 7, youtube)\n",
    "    for v_id in trailer_dict:\n",
    "        trailer_df.loc[row, 'tt_id'] = tt_id\n",
    "        trailer_df.loc[row, 'movie_title'] = movie_name\n",
    "        trailer_df.loc[row, 'release_date'] = movie_release_date\n",
    "        trailer_df.loc[row, 'trailer_id'] = v_id\n",
    "        trailer_df.loc[row, 'trailer_publishTime'] = trailer_dict[v_id][0]\n",
    "        trailer_df.loc[row, 'trailer_title'] = trailer_dict[v_id][1]\n",
    "        v_stat = get_trialer_statistics(v_id, youtube)\n",
    "        for item in v_stat:\n",
    "            trailer_df.loc[row, item] = int(v_stat[item])\n",
    "        row += 1"
   ]
  },
  {
   "cell_type": "code",
   "execution_count": 75,
   "metadata": {},
   "outputs": [],
   "source": [
    "trailer_df.to_csv(\"./data/trailer_list/trailer_list_raw.csv\", index=False)"
   ]
  },
  {
   "cell_type": "code",
   "execution_count": 102,
   "metadata": {},
   "outputs": [
    {
     "data": {
      "text/plain": [
       "Index(['tt_id', 'movie_title', 'release_date', 'trailer_id',\n",
       "       'trailer_publishTime', 'trailer_title', 'viewCount', 'commentCount',\n",
       "       'likeCount', 'dislikeCount', 'favoriteCount'],\n",
       "      dtype='object')"
      ]
     },
     "execution_count": 102,
     "metadata": {},
     "output_type": "execute_result"
    }
   ],
   "source": [
    "trailer_df.columns"
   ]
  },
  {
   "cell_type": "code",
   "execution_count": 110,
   "metadata": {},
   "outputs": [
    {
     "data": {
      "text/plain": [
       "<matplotlib.axes._subplots.AxesSubplot at 0x7fbcc8b862e8>"
      ]
     },
     "execution_count": 110,
     "metadata": {},
     "output_type": "execute_result"
    },
    {
     "data": {
      "image/png": "[encoded data removed]",
      "text/plain": [
       "<Figure size 432x288 with 1 Axes>"
      ]
     },
     "metadata": {
      "needs_background": "light"
     },
     "output_type": "display_data"
    }
   ],
   "source": [
    "trailer_df.commentCount.hist(bins=100)"
   ]
  },
  {
   "cell_type": "code",
   "execution_count": 112,
   "metadata": {},
   "outputs": [
    {
     "data": {
      "text/plain": [
       "<matplotlib.axes._subplots.AxesSubplot at 0x7fbcc8f1cfd0>"
      ]
     },
     "execution_count": 112,
     "metadata": {},
     "output_type": "execute_result"
    },
    {
     "data": {
      "image/png": "[encoded data removed]",
      "text/plain": [
       "<Figure size 432x288 with 1 Axes>"
      ]
     },
     "metadata": {
      "needs_background": "light"
     },
     "output_type": "display_data"
    }
   ],
   "source": [
    "trailer_df.viewCount.hist(bins=100)"
   ]
  },
  {
   "cell_type": "markdown",
   "metadata": {},
   "source": [
    "### Step 2: Remove videos with viewCount < 10k\n",
    "- Result saved as \"./data/trailer_list/trailer_list_prune1.csv\""
   ]
  },
  {
   "cell_type": "code",
   "execution_count": 122,
   "metadata": {},
   "outputs": [
    {
     "name": "stdout",
     "output_type": "stream",
     "text": [
      "(4955, 11)\n"
     ]
    }
   ],
   "source": [
    "df_prune1 = pd.read_csv(\"./data/trailer_list/trailer_list_raw.csv\")\n",
    "print(df_prune1.shape)"
   ]
  },
  {
   "cell_type": "code",
   "execution_count": 123,
   "metadata": {},
   "outputs": [
    {
     "name": "stdout",
     "output_type": "stream",
     "text": [
      "(3858, 11)\n"
     ]
    }
   ],
   "source": [
    "df_prune1 = df_prune1[df_prune1.viewCount >= 1e5]\n",
    "print(df_prune1.shape)"
   ]
  },
  {
   "cell_type": "code",
   "execution_count": 124,
   "metadata": {},
   "outputs": [],
   "source": [
    "df_prune1.to_csv(\"./data/trailer_list/trailer_list_prune1.csv\", index=False)"
   ]
  },
  {
   "cell_type": "markdown",
   "metadata": {},
   "source": [
    "### Step 3: Manaully clean up unrelevent videos\n",
    "- Check each trailer title use movie_title_key_words.\n",
    "- Remove the trailers whose title doesn't contains all the key_words.\n",
    "- Result saved as \"./data/trailer_list/trailer_list_prune2.csv\""
   ]
  },
  {
   "cell_type": "code",
   "execution_count": 130,
   "metadata": {},
   "outputs": [],
   "source": [
    "movie_title_key_words = pd.DataFrame(columns=['movie_title', 'key_words'])\n",
    "movie_title_key_words.movie_title = df_prune1.movie_title.unique()\n",
    "movie_title_key_words.key_words = df_prune1.movie_title.unique()\n",
    "# movie_title_key_words.to_csv(\"./data/trailer_list/movie_title_key_words.csv\", index=False)\n",
    "# Then manaully set the key words for each movie_title."
   ]
  },
  {
   "cell_type": "code",
   "execution_count": 181,
   "metadata": {},
   "outputs": [],
   "source": [
    "df_prune2 = pd.read_csv(\"./data/trailer_list/trailer_list_prune1.csv\")\n",
    "movie_title_key_words = pd.read_csv(\"./data/trailer_list/movie_title_key_words.csv\")\n",
    "df_prune2.loc[:, 'remove'] = False"
   ]
  },
  {
   "cell_type": "code",
   "execution_count": 182,
   "metadata": {},
   "outputs": [
    {
     "data": {
      "text/plain": [
       "Index(['tt_id', 'movie_title', 'release_date', 'trailer_id',\n",
       "       'trailer_publishTime', 'trailer_title', 'viewCount', 'commentCount',\n",
       "       'likeCount', 'dislikeCount', 'favoriteCount', 'remove'],\n",
       "      dtype='object')"
      ]
     },
     "execution_count": 182,
     "metadata": {},
     "output_type": "execute_result"
    }
   ],
   "source": [
    "df_prune2.columns"
   ]
  },
  {
   "cell_type": "code",
   "execution_count": 183,
   "metadata": {},
   "outputs": [
    {
     "name": "stdout",
     "output_type": "stream",
     "text": [
      "(3702, 12)\n",
      "739\n"
     ]
    }
   ],
   "source": [
    "for i in range(df_prune2.shape[0]):\n",
    "    movie_title = df_prune2.loc[i, 'movie_title']\n",
    "    key_words = movie_title_key_words[movie_title_key_words.movie_title == movie_title].key_words.iloc[0]\n",
    "    key_words = key_words.lower().split(',')\n",
    "    trailer_title = df_prune2.loc[i, 'trailer_title'].lower()\n",
    "    df_prune2.loc[i, 'remove'] = not all([k in trailer_title for k in key_words])\n",
    "df_prune2 = df_prune2[df_prune2.remove == False]\n",
    "print(df_prune2.shape)\n",
    "print(df_prune2.movie_title.nunique())"
   ]
  },
  {
   "cell_type": "code",
   "execution_count": 189,
   "metadata": {},
   "outputs": [],
   "source": [
    "df_prune2 = df_prune2.sort_values(['release_date', 'tt_id', 'trailer_publishTime'])\n",
    "df_prune2.to_csv(\"./data/trailer_list/trailer_list_prune2.csv\", index=False)"
   ]
  },
  {
   "cell_type": "markdown",
   "metadata": {},
   "source": [
    "### Step 4: Keep atmost 3 trailers for each movie\n",
    "- Find the most view trailer of the movie.\n",
    "- For the rest trailers, if the viewCount < 0.1 * most viewed trailer's viewCount, remove if.\n",
    "- If the remaining trailer number is still larger than 3, only keep the top 3 trialers\n",
    "- Result saved as \"./data/trailer_list/trailer_list_prune3.csv\""
   ]
  },
  {
   "cell_type": "code",
   "execution_count": 218,
   "metadata": {},
   "outputs": [],
   "source": [
    "df_prune3 = pd.read_csv(\"./data/trailer_list/trailer_list_prune2.csv\")"
   ]
  },
  {
   "cell_type": "code",
   "execution_count": 219,
   "metadata": {},
   "outputs": [],
   "source": [
    "max_viewCount_df = df_prune3.groupby(\"tt_id\").agg({\n",
    "    \"viewCount\": \"max\"\n",
    "})"
   ]
  },
  {
   "cell_type": "code",
   "execution_count": 220,
   "metadata": {},
   "outputs": [
    {
     "name": "stdout",
     "output_type": "stream",
     "text": [
      "(2326, 12)\n"
     ]
    }
   ],
   "source": [
    "df_prune3.loc[:, 'remove'] = False\n",
    "for i in range(df_prune3.shape[0]):\n",
    "    tt_id = df_prune3.loc[i, 'tt_id']\n",
    "    viewCount = df_prune3.loc[i, 'viewCount']\n",
    "    max_viewCount = max_viewCount_df.loc[tt_id, 'viewCount']\n",
    "    if 10 * viewCount < max_viewCount:\n",
    "        df_prune3.loc[i, 'remove'] = True\n",
    "df_prune3 = df_prune3[df_prune3.remove == False]\n",
    "print(df_prune3.shape)"
   ]
  },
  {
   "cell_type": "code",
   "execution_count": 221,
   "metadata": {},
   "outputs": [
    {
     "name": "stdout",
     "output_type": "stream",
     "text": [
      "(1903, 12)\n",
      "739\n"
     ]
    }
   ],
   "source": [
    "df_prune3 = df_prune3.sort_values(['release_date', 'tt_id', 'viewCount'])\n",
    "df_prune3 = df_prune3.groupby('tt_id').tail(3).reset_index(drop=True)\n",
    "print(df_prune3.shape)\n",
    "print(df_prune3.movie_title.nunique())\n",
    "df_prune3 = df_prune3.sort_values(['release_date', 'tt_id', 'trailer_publishTime'])\n",
    "df_prune3.to_csv(\"./data/trailer_list/trailer_list_prune3.csv\", index=False)"
   ]
  },
  {
   "cell_type": "markdown",
   "metadata": {},
   "source": [
    "### Step 5: Find out the trailers which disable comments\n"
   ]
  },
  {
   "cell_type": "code",
   "execution_count": 12,
   "metadata": {},
   "outputs": [],
   "source": [
    "df_prune4 = pd.read_csv(\"./data/trailer_list/trailer_list_prune3.csv\")\n",
    "df_prune4 = df_prune4.drop(columns=['favoriteCount', 'remove'])\n",
    "df_prune4.loc[:, 'comment_disabled'] = False\n",
    "df_prune4.loc[:, 'year'] = df_prune4.loc[:, 'release_date'].apply(lambda x: int(x[:4]))\n",
    "df_prune4.loc[:, 'month'] = df_prune4.loc[:, 'release_date'].apply(lambda x: int(x[5:7]))\n",
    "# df_prune4.loc[:, 'day'] = df_prune4.loc[:, 'release_date'].apply(lambda x: int(x[-2:]))"
   ]
  },
  {
   "cell_type": "code",
   "execution_count": 13,
   "metadata": {},
   "outputs": [],
   "source": [
    "def func(df):\n",
    "    for i in range(df.shape[0]):\n",
    "        video_id = df.loc[i, 'trailer_id']\n",
    "        movie_title = df.loc[i, 'movie_title']\n",
    "        try:\n",
    "            res = get_comment_thread_1page(video_id, youtube_0)\n",
    "        except:\n",
    "            print(\"Comments are turned off for {}. Movie: {}\".format(video_id, movie_title))\n",
    "            df.loc[i, 'comment_disabled'] = True\n",
    "    return df"
   ]
  },
  {
   "cell_type": "code",
   "execution_count": 14,
   "metadata": {},
   "outputs": [
    {
     "name": "stdout",
     "output_type": "stream",
     "text": [
      "Comments are turned off for 9iGwEp_A0PY. Movie: Mr. Peabody & Sherman\n",
      "Comments are turned off for lPnY2NjSjrg. Movie: The Lego Movie\n",
      "Comments are turned off for fZ_JOBCLF-I. Movie: The Lego Movie\n",
      "Comments are turned off for aMl2tTVwsZA. Movie: Mr. Peabody & Sherman\n",
      "Comments are turned off for hUWsKkMKZBc. Movie: Rio 2\n",
      "Comments are turned off for HXppfX-mBsE. Movie: Muppets Most Wanted\n",
      "Comments are turned off for TGjbpO1toTc. Movie: The SpongeBob Movie: Sponge Out of Water\n",
      "Comments are turned off for bNoBuZSX0Bg. Movie: The SpongeBob Movie: Sponge Out of Water\n",
      "Comments are turned off for u8A_F5oYJGI. Movie: Norm of the North\n",
      "Comments are turned off for Du4jTG7-93k. Movie: Home\n",
      "Comments are turned off for 10r9ozshGVE. Movie: Kung Fu Panda 3\n",
      "Comments are turned off for fGPPfZIvtCw. Movie: Kung Fu Panda 3\n",
      "Comments are turned off for aBJyp2LFHgk. Movie: The Lego Batman Movie\n",
      "Comments are turned off for iMdQXYQ_MD8. Movie: The Lego Batman Movie\n",
      "Comments are turned off for rGQUKzSDhrg. Movie: The Lego Batman Movie\n",
      "Comments are turned off for 1jLOOCADTGs. Movie: A Dog's Purpose\n",
      "Comments are turned off for zwut1DUXaZc. Movie: The Promise\n",
      "Comments are turned off for mtekphm2ipM. Movie: The Promise\n",
      "Comments are turned off for 07Um1PY_P4o. Movie: Paddington 2\n",
      "Comments are turned off for ZRiPQ8YNrVs. Movie: Early Man\n",
      "Comments are turned off for tquIfapGVqs. Movie: The Boss Baby\n",
      "Comments are turned off for Cg-h8TwQCgs. Movie: The Kid Who Would Be King\n",
      "Comments are turned off for ukJ5dMYx2no. Movie: The Death of Stalin\n",
      "Comments are turned off for szwGX6Cix3k. Movie: Legends of Oz: Dorothy's Return\n",
      "Comments are turned off for SeRGyBCjL78. Movie: Legends of Oz: Dorothy's Return\n",
      "Comments are turned off for SkcucKDrbOI. Movie: How to Train Your Dragon: The Hidden World\n",
      "Comments are turned off for qLTDtbYmdWM. Movie: How to Train Your Dragon: The Hidden World\n",
      "Comments are turned off for 68AqHwgk2s8. Movie: How to Train Your Dragon 2\n",
      "Comments are turned off for WCWJL6D1SZA. Movie: How to Train Your Dragon 2\n",
      "Comments are turned off for VML6rQWssSk. Movie: Wonder Park\n",
      "Comments are turned off for 5MRSBuQt51A. Movie: Wonder Park\n",
      "Comments are turned off for qDB9qy5o59Y. Movie: Inside Out\n",
      "Comments are turned off for 6EPPMCwD5bw. Movie: Max\n",
      "Comments are turned off for P9-FCC6I7u0. Movie: Minions\n",
      "Comments are turned off for dVDk7PXNXB8. Movie: Minions\n",
      "Comments are turned off for E6qLSo9RsaE. Movie: Shaun the Sheep Movie\n",
      "Comments are turned off for tQvwiOWpj7o. Movie: Shaun the Sheep Movie\n",
      "Comments are turned off for zs2SrqLum1M. Movie: Captain Underpants: The First Epic Movie\n",
      "Comments are turned off for w3esXbIHQAg. Movie: Captain Underpants: The First Epic Movie\n",
      "Comments are turned off for nlI3Ykm3HV4. Movie: Diary of a Wimpy Kid: The Long Haul\n",
      "Comments are turned off for r7PLDbPPL7w. Movie: Diary of a Wimpy Kid: The Long Haul\n",
      "Comments are turned off for i-80SGWfEjM. Movie: The Secret Life of Pets\n",
      "Comments are turned off for UZJVc_JTI_w. Movie: The Secret Life of Pets\n",
      "Comments are turned off for 2LeOH9AGJQM. Movie: Cars 3\n",
      "Comments are turned off for qjoomsFNgwg. Movie: UglyDolls\n",
      "Comments are turned off for ZWPwsSxK0rY. Movie: UglyDollsComments are turned off for 6DBi41reeF0. Movie: Despicable Me 3\n",
      "\n",
      "Comments are turned off for euz-KBBfAAo. Movie: Despicable Me 3\n",
      "Comments are turned off for 1roy4o4tqQM. Movie: Pokémon Detective Pikachu\n",
      "Comments are turned off for bILE5BEyhdo. Movie: Pokémon Detective Pikachu\n",
      "Comments are turned off for vex0gPFnBvM. Movie: Kubo and the Two Strings\n",
      "Comments are turned off for i5qOzqD9Rms. Movie: Incredibles 2\n",
      "Comments are turned off for pKLGUuJftl0. Movie: The Secret Life of Pets 2\n",
      "Comments are turned off for mYocfuqu2A8. Movie: The Secret Life of Pets 2\n",
      "Comments are turned off for nYif5QTYI9w. Movie: The Nut Job 2: Nutty by Nature\n",
      "Comments are turned off for qR-n1pPvcbk. Movie: Dolphin Tale 2\n",
      "Comments are turned off for gMDymk_gx3A. Movie: Dolphin Tale 2\n",
      "Comments are turned off for LDXYRzerjzU. Movie: Toy Story 4\n",
      "Comments are turned off for wmiIUN-7qhE. Movie: Toy Story 4\n",
      "Comments are turned off for Pl9JS8-gnWQ. Movie: Toy Story 4\n",
      "Comments are turned off for r9WhJyyTtqo. Movie: Teen Titans GO! to the Movies\n",
      "Comments are turned off for vLM8ZgxuxsM. Movie: Teen Titans GO! to the Movies\n",
      "Comments are turned off for OvgyXKDXdZY. Movie: Big Hero 6\n",
      "Comments are turned off for 8IdMPpKMdcc. Movie: Big Hero 6\n",
      "Comments are turned off for lk7yw00a4fs. Movie: The Light Between Oceans\n",
      "Comments are turned off for KHGHEpUeUwo. Movie: Penguins of Madagascar\n",
      "Comments are turned off for fVR4E6Q6u5g. Movie: The Peanuts Movie\n",
      "Comments are turned off for 8pCoVQDD-OY. Movie: The Peanuts Movie\n",
      "Comments are turned off for sZSYYiATFTI. Movie: The Lego Ninjago Movie\n",
      "Comments are turned off for 04FcbCFmisI. Movie: The Lego Ninjago Movie\n",
      "Comments are turned off for F5JV3nVOLMA. Movie: The Lego Ninjago Movie\n",
      "Comments are turned off for tDnRVKPjj8k. Movie: Trolls\n",
      "Comments are turned off for xyjm5VQ11TQ. Movie: Trolls\n",
      "Comments are turned off for WgOv6RxbfKw. Movie: Trolls\n",
      "Comments are turned off for lllZMKibitU. Movie: The Edge of Seventeen\n",
      "Comments are turned off for UI_nj4NXpoQ. Movie: Alvin and the Chipmunks: The Road Chip\n",
      "Comments are turned off for Sc5ZuVd-K0o. Movie: Alvin and the Chipmunks: The Road Chip\n",
      "Comments are turned off for aeQe_mZcyf8. Movie: My Little Pony: The Movie\n",
      "Comments are turned off for sNJOisDTYEg. Movie: My Little Pony: The Movie\n",
      "Comments are turned off for 34cHO5_LX9g. Movie: Smallfoot\n",
      "Comments are turned off for uBw6EvIxIS8. Movie: Smallfoot\n",
      "Comments are turned off for Ap0NRJD-2ts. Movie: Abominable\n",
      "Comments are turned off for goSOXI2XkIA. Movie: Abominable\n",
      "Comments are turned off for Rvr68u6k5sI. Movie: Coco\n",
      "Comments are turned off for HBXVM7oUPVk. Movie: Ferdinand\n",
      "Comments are turned off for n7RkOfN8KvE. Movie: Ferdinand\n",
      "Comments are turned off for vjnqABgxfO0. Movie: The Grinch\n",
      "Comments are turned off for AXCTMGYUg9A. Movie: The Greatest Showman\n",
      "Comments are turned off for jr9QtXwC9vc. Movie: The Greatest Showman\n",
      "Comments are turned off for _UOh0UX3alI. Movie: The Grinch\n",
      "Comments are turned off for xFCrR3Uw6Mk. Movie: The Addams Family\n",
      "Comments are turned off for Y0yASicx19g. Movie: Bumblebee\n",
      "Comments are turned off for Zi4LMpSDccc. Movie: Frozen II\n",
      "Finished. Time: 196.6 s.\n"
     ]
    }
   ],
   "source": [
    "t0 = time.time()\n",
    "df = df_prune4.loc[:, :]\n",
    "with Pool(cpu_count()) as p:\n",
    "    chunks = p.map(func, [df[df['month'] == i].reset_index(drop=True) for i in range(1, 13)])\n",
    "t1 = time.time()\n",
    "print('Finished. Time: {:.1f} s.'.format(t1 - t0))\n",
    "df_filled = pd.DataFrame()\n",
    "for chunk in chunks:\n",
    "    df_filled = pd.concat([df_filled, chunk])\n",
    "df_filled = df_filled.sort_values(['release_date', 'tt_id', 'trailer_publishTime'])\n",
    "df_filled = df_filled.reset_index(drop=True)"
   ]
  },
  {
   "cell_type": "code",
   "execution_count": 19,
   "metadata": {},
   "outputs": [],
   "source": [
    "df_prune4 = df_filled.drop(columns=['year', 'month'])\n",
    "df_prune4.to_csv(\"./data/trailer_list/trailer_list_2014-2019.csv\", index=False)"
   ]
  },
  {
   "cell_type": "code",
   "execution_count": 31,
   "metadata": {},
   "outputs": [
    {
     "data": {
      "text/plain": [
       "225.21"
      ]
     },
     "execution_count": 31,
     "metadata": {},
     "output_type": "execute_result"
    }
   ],
   "source": [
    "df_prune4.commentCount.sum() / 60000"
   ]
  },
  {
   "cell_type": "code",
   "execution_count": null,
   "metadata": {},
   "outputs": [],
   "source": []
  }
 ],
 "metadata": {
  "kernelspec": {
   "display_name": "Python 3",
   "language": "python",
   "name": "python3"
  },
  "language_info": {
   "codemirror_mode": {
    "name": "ipython",
    "version": 3
   },
   "file_extension": ".py",
   "mimetype": "text/x-python",
   "name": "python",
   "nbconvert_exporter": "python",
   "pygments_lexer": "ipython3",
   "version": "3.7.6"
  }
 },
 "nbformat": 4,
 "nbformat_minor": 4
}
