{
 "cells": [
  {
   "cell_type": "markdown",
   "metadata": {},
   "source": [
    "# Collect Movie Metadata"
   ]
  },
  {
   "cell_type": "code",
   "execution_count": 2,
   "metadata": {},
   "outputs": [],
   "source": [
    "from time import time\n",
    "from multiprocessing import Pool, cpu_count\n",
    "import tqdm  # show multi-processing progress bar\n",
    "\n",
    "import pandas as pd\n",
    "\n",
    "import mojo_api\n",
    "\n",
    "# for auto reload a module after editing.\n",
    "%load_ext autoreload\n",
    "%autoreload 2"
   ]
  },
  {
   "cell_type": "markdown",
   "metadata": {},
   "source": [
    "### Step 1: Collect list of movies"
   ]
  },
  {
   "cell_type": "code",
   "execution_count": 2,
   "metadata": {},
   "outputs": [
    {
     "name": "stdout",
     "output_type": "stream",
     "text": [
      "Finished collecting movie list of 1999, movie number: 440\n",
      "Finished collecting movie list of 2000, movie number: 429\n",
      "Finished collecting movie list of 2001, movie number: 405\n",
      "Finished collecting movie list of 2002, movie number: 553\n",
      "Finished collecting movie list of 2003, movie number: 636\n",
      "Finished collecting movie list of 2004, movie number: 654\n",
      "Finished collecting movie list of 2005, movie number: 628\n",
      "Finished collecting movie list of 2006, movie number: 712\n",
      "Finished collecting movie list of 2007, movie number: 750\n",
      "Finished collecting movie list of 2008, movie number: 708\n",
      "Finished collecting movie list of 2009, movie number: 625\n",
      "Finished collecting movie list of 2010, movie number: 615\n",
      "Finished collecting movie list of 2011, movie number: 696\n",
      "Finished collecting movie list of 2012, movie number: 766\n",
      "Finished collecting movie list of 2013, movie number: 802\n",
      "Finished collecting movie list of 2014, movie number: 808\n",
      "Finished collecting movie list of 2015, movie number: 803\n",
      "Finished collecting movie list of 2016, movie number: 811\n",
      "Finished collecting movie list of 2017, movie number: 816\n",
      "Finished collecting movie list of 2018, movie number: 908\n",
      "Finished collecting movie list of 2019, movie number: 833\n"
     ]
    }
   ],
   "source": [
    "# Collect movie list for each year from https://www.boxofficemojo.com/.\n",
    "df = pd.DataFrame()\n",
    "year_start = 2000\n",
    "year_end = 2019\n",
    "for year in range(year_start - 1, year_end + 1):\n",
    "    year_df = mojo_api.get_movie_list(year)\n",
    "    year_df.to_csv('./data/movie_list/_movie_list_{}.csv'.format(year), index=False)\n",
    "    print(\"Finished collecting movie list of {}, movie number: {}\".format(year, year_df.shape[0]))\n",
    "    df = pd.concat([df, year_df])"
   ]
  },
  {
   "cell_type": "code",
   "execution_count": 5,
   "metadata": {},
   "outputs": [],
   "source": [
    "# A movie title can appear across two years. Remove duplicate records across years.\n",
    "df_remove_dup = df.groupby('Title').agg({\n",
    "    'Year': 'first',\n",
    "    'Rank': 'first',\n",
    "    'Title': 'first'\n",
    "})\n",
    "\n",
    "# Only keep the high rank movies.\n",
    "df_remove_dup = df_remove_dup.sort_values(['Year', 'Rank'])\n",
    "df_remove_dup_p1 = df_remove_dup[df_remove_dup.Year < 2014]\n",
    "df_remove_dup_p1 = df_remove_dup_p1[df_remove_dup_p1.Rank <= 80]\n",
    "df_remove_dup_p2 = df_remove_dup[df_remove_dup.Year >= 2014]\n",
    "df_remove_dup_p2 = df_remove_dup_p2[df_remove_dup_p.Rank <= 150]\n",
    "\n",
    "df_remove_dup = pd.concat([df_remove_dup_p1, df_remove_dup_p2])\n",
    "df_remove_dup = df_remove_dup.sort_values(['Year', 'Rank'])\n",
    "df_remove_dup = df_remove_dup.reset_index(drop=True)\n",
    "df_remove_dup.to_csv('./data/movie_list/_movie_list_2000-2019.csv', index=False)"
   ]
  },
  {
   "cell_type": "markdown",
   "metadata": {},
   "source": [
    "### Step 2: Collect metadata of each movie"
   ]
  },
  {
   "cell_type": "code",
   "execution_count": 31,
   "metadata": {},
   "outputs": [
    {
     "name": "stderr",
     "output_type": "stream",
     "text": [
      "\n",
      "\n",
      "\n",
      "\n",
      "  0%|          | 0/150 [00:00<?, ?it/s]\u001b[A\u001b[A\u001b[A\u001b[A\n",
      "\n",
      "\n",
      "\n",
      "  1%|          | 1/150 [00:27<1:08:23, 27.54s/it]\u001b[A\u001b[A\u001b[A\u001b[A\n",
      "\n",
      "\n",
      "\n",
      "  2%|▏         | 3/150 [00:27<47:19, 19.32s/it]  \u001b[A\u001b[A\u001b[A\u001b[A"
     ]
    },
    {
     "name": "stdout",
     "output_type": "stream",
     "text": [
      "imdb_id not found. title: Star Wars: Episode IX - The Rise of Skywalker, year: 2019.\n"
     ]
    },
    {
     "name": "stderr",
     "output_type": "stream",
     "text": [
      "\n",
      "\n",
      "\n",
      "\n",
      "  3%|▎         | 5/150 [00:49<40:40, 16.83s/it]\u001b[A\u001b[A\u001b[A\u001b[A\n",
      "\n",
      "\n",
      "\n",
      "  5%|▍         | 7/150 [00:51<28:33, 11.98s/it]\u001b[A\u001b[A\u001b[A\u001b[A\n",
      "\n",
      "\n",
      "\n",
      "  6%|▌         | 9/150 [00:59<22:47,  9.70s/it]\u001b[A\u001b[A\u001b[A\u001b[A\n",
      "\n",
      "\n",
      "\n",
      "  7%|▋         | 10/150 [01:10<23:04,  9.89s/it]\u001b[A\u001b[A\u001b[A\u001b[A\n",
      "\n",
      "\n",
      "\n",
      "  8%|▊         | 12/150 [01:12<16:41,  7.26s/it]\u001b[A\u001b[A\u001b[A\u001b[A\n",
      "\n",
      "\n",
      "\n",
      "  9%|▊         | 13/150 [01:22<18:19,  8.03s/it]\u001b[A\u001b[A\u001b[A\u001b[A\n",
      "\n",
      "\n",
      "\n",
      "  9%|▉         | 14/150 [01:24<14:08,  6.24s/it]\u001b[A\u001b[A\u001b[A\u001b[A\n",
      "\n",
      "\n",
      "\n",
      " 10%|█         | 15/150 [01:29<13:07,  5.83s/it]\u001b[A\u001b[A\u001b[A\u001b[A\n",
      "\n",
      "\n",
      "\n",
      " 11%|█         | 16/150 [01:29<09:21,  4.19s/it]\u001b[A\u001b[A\u001b[A\u001b[A\n",
      "\n",
      "\n",
      "\n",
      " 11%|█▏        | 17/150 [01:46<17:32,  7.91s/it]\u001b[A\u001b[A\u001b[A\u001b[A\n",
      "\n",
      "\n",
      "\n",
      " 13%|█▎        | 19/150 [01:52<14:12,  6.51s/it]\u001b[A\u001b[A\u001b[A\u001b[A\n",
      "\n",
      "\n",
      "\n",
      " 14%|█▍        | 21/150 [02:02<13:05,  6.09s/it]\u001b[A\u001b[A\u001b[A\u001b[A\n",
      "\n",
      "\n",
      "\n",
      " 15%|█▍        | 22/150 [02:03<09:25,  4.42s/it]\u001b[A\u001b[A\u001b[A\u001b[A\n",
      "\n",
      "\n",
      "\n",
      " 15%|█▌        | 23/150 [02:09<10:05,  4.77s/it]\u001b[A\u001b[A\u001b[A\u001b[A"
     ]
    },
    {
     "name": "stdout",
     "output_type": "stream",
     "text": [
      "imdb_id not found. title: The Angry Birds Movie, year: 2016.\n",
      "imdb_id not found. title: The Upside, year: 2019.\n"
     ]
    },
    {
     "name": "stderr",
     "output_type": "stream",
     "text": [
      "\n",
      "\n",
      "\n",
      "\n",
      " 17%|█▋        | 25/150 [02:21<10:48,  5.19s/it]\u001b[A\u001b[A\u001b[A\u001b[A\n",
      "\n",
      "\n",
      "\n",
      " 19%|█▊        | 28/150 [02:23<07:53,  3.88s/it]\u001b[A\u001b[A\u001b[A\u001b[A\n",
      "\n",
      "\n",
      "\n",
      " 19%|█▉        | 29/150 [02:39<14:54,  7.39s/it]\u001b[A\u001b[A\u001b[A\u001b[A\n",
      "\n",
      "\n",
      "\n",
      " 21%|██▏       | 32/150 [02:40<10:22,  5.28s/it]\u001b[A\u001b[A\u001b[A\u001b[A\n",
      "\n",
      "\n",
      "\n",
      " 22%|██▏       | 33/150 [02:54<15:18,  7.85s/it]\u001b[A\u001b[A\u001b[A\u001b[A\n",
      "\n",
      "\n",
      "\n",
      " 23%|██▎       | 34/150 [03:00<14:01,  7.25s/it]\u001b[A\u001b[A\u001b[A\u001b[A"
     ]
    },
    {
     "name": "stdout",
     "output_type": "stream",
     "text": [
      "imdb_id not found. title: A Madea Family Funeral, year: 2019.\n"
     ]
    },
    {
     "name": "stderr",
     "output_type": "stream",
     "text": [
      "\n",
      "\n",
      "\n",
      "\n",
      " 25%|██▍       | 37/150 [03:11<11:45,  6.24s/it]\u001b[A\u001b[A\u001b[A\u001b[A\n",
      "\n",
      "\n",
      "\n",
      " 27%|██▋       | 41/150 [03:17<08:41,  4.79s/it]\u001b[A\u001b[A\u001b[A\u001b[A\n",
      "\n",
      "\n",
      "\n",
      " 28%|██▊       | 42/150 [03:20<07:56,  4.42s/it]\u001b[A\u001b[A\u001b[A\u001b[A\n",
      "\n",
      "\n",
      "\n",
      " 29%|██▊       | 43/150 [03:27<08:50,  4.95s/it]\u001b[A\u001b[A\u001b[A\u001b[A\n",
      "\n",
      "\n",
      "\n",
      " 29%|██▉       | 44/150 [03:30<07:47,  4.41s/it]\u001b[A\u001b[A\u001b[A\u001b[A\n",
      "\n",
      "\n",
      "\n",
      " 30%|███       | 45/150 [03:37<09:11,  5.25s/it]\u001b[A\u001b[A\u001b[A\u001b[A\n",
      "\n",
      "\n",
      "\n",
      " 31%|███       | 46/150 [03:38<07:07,  4.12s/it]\u001b[A\u001b[A\u001b[A\u001b[A\n",
      "\n",
      "\n",
      "\n",
      " 31%|███▏      | 47/150 [03:44<07:59,  4.66s/it]\u001b[A\u001b[A\u001b[A\u001b[A\n",
      "\n",
      "\n",
      "\n",
      " 33%|███▎      | 49/150 [03:52<07:24,  4.40s/it]\u001b[A\u001b[A\u001b[A\u001b[A\n",
      "\n",
      "\n",
      "\n",
      " 33%|███▎      | 50/150 [03:59<08:51,  5.32s/it]\u001b[A\u001b[A\u001b[A\u001b[A\n",
      "\n",
      "\n",
      "\n",
      " 35%|███▌      | 53/150 [04:09<07:34,  4.68s/it]\u001b[A\u001b[A\u001b[A\u001b[A\n",
      "\n",
      "\n",
      "\n",
      " 36%|███▌      | 54/150 [04:10<05:34,  3.48s/it]\u001b[A\u001b[A\u001b[A\u001b[A\n",
      "\n",
      "\n",
      "\n",
      " 37%|███▋      | 56/150 [04:14<04:45,  3.04s/it]\u001b[A\u001b[A\u001b[A\u001b[A\n",
      "\n",
      "\n",
      "\n",
      " 38%|███▊      | 57/150 [04:22<07:04,  4.57s/it]\u001b[A\u001b[A\u001b[A\u001b[A\n",
      "\n",
      "\n",
      "\n",
      " 39%|███▊      | 58/150 [04:22<04:58,  3.25s/it]\u001b[A\u001b[A\u001b[A\u001b[A\n",
      "\n",
      "\n",
      "\n",
      " 39%|███▉      | 59/150 [04:25<04:47,  3.15s/it]\u001b[A\u001b[A\u001b[A\u001b[A\n",
      "\n",
      "\n",
      "\n",
      " 40%|████      | 60/150 [04:31<06:03,  4.04s/it]\u001b[A\u001b[A\u001b[A\u001b[A\n",
      "\n",
      "\n",
      "\n",
      " 41%|████      | 61/150 [04:38<07:03,  4.76s/it]\u001b[A\u001b[A\u001b[A\u001b[A\n",
      "\n",
      "\n",
      "\n",
      " 42%|████▏     | 63/150 [04:41<05:31,  3.81s/it]\u001b[A\u001b[A\u001b[A\u001b[A\n",
      "\n",
      "\n",
      "\n",
      " 43%|████▎     | 64/150 [04:48<06:57,  4.86s/it]\u001b[A\u001b[A\u001b[A\u001b[A\n",
      "\n",
      "\n",
      "\n",
      " 43%|████▎     | 65/150 [04:51<05:52,  4.15s/it]\u001b[A\u001b[A\u001b[A\u001b[A"
     ]
    },
    {
     "name": "stdout",
     "output_type": "stream",
     "text": [
      "imdb_id not found. title: Little, year: 2019.\n"
     ]
    },
    {
     "name": "stderr",
     "output_type": "stream",
     "text": [
      "\n",
      "\n",
      "\n",
      "\n",
      " 44%|████▍     | 66/150 [04:57<06:50,  4.89s/it]\u001b[A\u001b[A\u001b[A\u001b[A\n",
      "\n",
      "\n",
      "\n",
      " 45%|████▌     | 68/150 [05:10<07:20,  5.38s/it]\u001b[A\u001b[A\u001b[A\u001b[A\n",
      "\n",
      "\n",
      "\n",
      " 47%|████▋     | 70/150 [05:17<06:26,  4.83s/it]\u001b[A\u001b[A\u001b[A\u001b[A\n",
      "\n",
      "\n",
      "\n",
      " 47%|████▋     | 71/150 [05:20<05:29,  4.17s/it]\u001b[A\u001b[A\u001b[A\u001b[A\n",
      "\n",
      "\n",
      "\n",
      " 48%|████▊     | 72/150 [05:21<04:12,  3.24s/it]\u001b[A\u001b[A\u001b[A\u001b[A\n",
      "\n",
      "\n",
      "\n",
      " 49%|████▊     | 73/150 [05:23<03:46,  2.94s/it]\u001b[A\u001b[A\u001b[A\u001b[A\n",
      "\n",
      "\n",
      "\n",
      " 49%|████▉     | 74/150 [05:42<09:53,  7.81s/it]\u001b[A\u001b[A\u001b[A\u001b[A\n",
      "\n",
      "\n",
      "\n",
      " 52%|█████▏    | 78/150 [06:03<08:22,  6.98s/it]\u001b[A\u001b[A\u001b[A\u001b[A\n",
      "\n",
      "\n",
      "\n",
      " 54%|█████▍    | 81/150 [06:04<05:49,  5.06s/it]\u001b[A\u001b[A\u001b[A\u001b[A\n",
      "\n",
      "\n",
      "\n",
      " 55%|█████▍    | 82/150 [06:08<05:08,  4.53s/it]\u001b[A\u001b[A\u001b[A\u001b[A\n",
      "\n",
      "\n",
      "\n",
      " 55%|█████▌    | 83/150 [06:17<06:37,  5.93s/it]\u001b[A\u001b[A\u001b[A\u001b[A\n",
      "\n",
      "\n",
      "\n",
      " 56%|█████▌    | 84/150 [06:25<07:19,  6.65s/it]\u001b[A\u001b[A\u001b[A\u001b[A\n",
      "\n",
      "\n",
      "\n",
      " 58%|█████▊    | 87/150 [06:26<05:01,  4.78s/it]\u001b[A\u001b[A\u001b[A\u001b[A"
     ]
    },
    {
     "name": "stdout",
     "output_type": "stream",
     "text": [
      "Isle of Dogs : budget still not found on IMDB.\n"
     ]
    },
    {
     "name": "stderr",
     "output_type": "stream",
     "text": [
      "\n",
      "\n",
      "\n",
      "\n",
      " 59%|█████▉    | 89/150 [06:41<05:38,  5.55s/it]\u001b[A\u001b[A\u001b[A\u001b[A\n",
      "\n",
      "\n",
      "\n",
      " 60%|██████    | 90/150 [06:42<04:11,  4.20s/it]\u001b[A\u001b[A\u001b[A\u001b[A\n",
      "\n",
      "\n",
      "\n",
      " 61%|██████    | 91/150 [06:47<04:18,  4.37s/it]\u001b[A\u001b[A\u001b[A\u001b[A"
     ]
    },
    {
     "name": "stdout",
     "output_type": "stream",
     "text": [
      "Judy : budget still not found on IMDB.\n"
     ]
    },
    {
     "name": "stderr",
     "output_type": "stream",
     "text": [
      "\n",
      "\n",
      "\n",
      "\n",
      " 61%|██████▏   | 92/150 [06:47<03:01,  3.13s/it]\u001b[A\u001b[A\u001b[A\u001b[A\n",
      "\n",
      "\n",
      "\n",
      " 62%|██████▏   | 93/150 [06:49<02:45,  2.90s/it]\u001b[A\u001b[A\u001b[A\u001b[A\n",
      "\n",
      "\n",
      "\n",
      " 63%|██████▎   | 94/150 [07:00<04:47,  5.13s/it]\u001b[A\u001b[A\u001b[A\u001b[A\n",
      "\n",
      "\n",
      "\n",
      " 63%|██████▎   | 95/150 [07:02<03:54,  4.27s/it]\u001b[A\u001b[A\u001b[A\u001b[A\n",
      "\n",
      "\n",
      "\n",
      " 65%|██████▍   | 97/150 [07:03<02:46,  3.14s/it]\u001b[A\u001b[A\u001b[A\u001b[A"
     ]
    },
    {
     "name": "stdout",
     "output_type": "stream",
     "text": [
      "imdb_id not found. title: The Witch, year: 2016.\n"
     ]
    },
    {
     "name": "stderr",
     "output_type": "stream",
     "text": [
      "\n",
      "\n",
      "\n",
      "\n",
      " 65%|██████▌   | 98/150 [07:19<06:02,  6.96s/it]\u001b[A\u001b[A\u001b[A\u001b[A\n",
      "\n",
      "\n",
      "\n",
      " 68%|██████▊   | 102/150 [07:28<04:26,  5.55s/it]\u001b[A\u001b[A\u001b[A\u001b[A\n",
      "\n",
      "\n",
      "\n",
      " 69%|██████▊   | 103/150 [07:31<03:50,  4.90s/it]\u001b[A\u001b[A\u001b[A\u001b[A\n",
      "\n",
      "\n",
      "\n",
      " 69%|██████▉   | 104/150 [07:35<03:27,  4.50s/it]\u001b[A\u001b[A\u001b[A\u001b[A"
     ]
    },
    {
     "name": "stdout",
     "output_type": "stream",
     "text": [
      "Won't You Be My Neighbor? : budget still not found on IMDB.\n"
     ]
    },
    {
     "name": "stderr",
     "output_type": "stream",
     "text": [
      "\n",
      "\n",
      "\n",
      "\n",
      " 71%|███████   | 106/150 [07:44<03:15,  4.44s/it]\u001b[A\u001b[A\u001b[A\u001b[A\n",
      "\n",
      "\n",
      "\n",
      " 71%|███████▏  | 107/150 [07:46<02:42,  3.78s/it]\u001b[A\u001b[A\u001b[A\u001b[A\n",
      "\n",
      "\n",
      "\n",
      " 73%|███████▎  | 109/150 [07:47<01:57,  2.86s/it]\u001b[A\u001b[A\u001b[A\u001b[A"
     ]
    },
    {
     "name": "stdout",
     "output_type": "stream",
     "text": [
      "The Farewell : budget still not found on IMDB.\n"
     ]
    },
    {
     "name": "stderr",
     "output_type": "stream",
     "text": [
      "\n",
      "\n",
      "\n",
      "\n",
      " 73%|███████▎  | 110/150 [08:00<03:57,  5.94s/it]\u001b[A\u001b[A\u001b[A\u001b[A\n",
      "\n",
      "\n",
      "\n",
      " 75%|███████▍  | 112/150 [08:03<02:52,  4.54s/it]\u001b[A\u001b[A\u001b[A\u001b[A\n",
      "\n",
      "\n",
      "\n",
      " 76%|███████▌  | 114/150 [08:12<02:42,  4.51s/it]\u001b[A\u001b[A\u001b[A\u001b[A"
     ]
    },
    {
     "name": "stdout",
     "output_type": "stream",
     "text": [
      "The Choice : budget still not found on IMDB.\n"
     ]
    },
    {
     "name": "stderr",
     "output_type": "stream",
     "text": [
      "\n",
      "\n",
      "\n",
      "\n",
      " 77%|███████▋  | 115/150 [08:18<02:53,  4.95s/it]\u001b[A\u001b[A\u001b[A\u001b[A"
     ]
    },
    {
     "name": "stdout",
     "output_type": "stream",
     "text": [
      "Monkey Kingdom : budget still not found on IMDB.\n"
     ]
    },
    {
     "name": "stderr",
     "output_type": "stream",
     "text": [
      "\n",
      "\n",
      "\n",
      "\n",
      " 78%|███████▊  | 117/150 [08:23<02:19,  4.22s/it]\u001b[A\u001b[A\u001b[A\u001b[A\n",
      "\n",
      "\n",
      "\n",
      " 79%|███████▊  | 118/150 [08:27<02:14,  4.19s/it]\u001b[A\u001b[A\u001b[A\u001b[A"
     ]
    },
    {
     "name": "stdout",
     "output_type": "stream",
     "text": [
      "imdb_id not found. title: Bears, year: 2014.\n"
     ]
    },
    {
     "name": "stderr",
     "output_type": "stream",
     "text": [
      "\n",
      "\n",
      "\n",
      "\n",
      " 79%|███████▉  | 119/150 [08:30<02:01,  3.91s/it]\u001b[A\u001b[A\u001b[A\u001b[A\n",
      "\n",
      "\n",
      "\n",
      " 80%|████████  | 120/150 [08:34<01:59,  3.98s/it]\u001b[A\u001b[A\u001b[A\u001b[A"
     ]
    },
    {
     "name": "stdout",
     "output_type": "stream",
     "text": [
      "Megan Leavey : budget still not found on IMDB.\n"
     ]
    },
    {
     "name": "stderr",
     "output_type": "stream",
     "text": [
      "\n",
      "\n",
      "\n",
      "\n",
      " 81%|████████▏ | 122/150 [08:45<02:03,  4.42s/it]\u001b[A\u001b[A\u001b[A\u001b[A\n",
      "\n",
      "\n",
      "\n",
      " 82%|████████▏ | 123/150 [08:50<02:02,  4.54s/it]\u001b[A\u001b[A\u001b[A\u001b[A\n",
      "\n",
      "\n",
      "\n",
      " 83%|████████▎ | 125/150 [08:50<01:20,  3.21s/it]\u001b[A\u001b[A\u001b[A\u001b[A\n",
      "\n",
      "\n",
      "\n",
      " 84%|████████▍ | 126/150 [08:59<01:58,  4.94s/it]\u001b[A\u001b[A\u001b[A\u001b[A\n",
      "\n",
      "\n",
      "\n",
      " 85%|████████▍ | 127/150 [09:00<01:24,  3.68s/it]\u001b[A\u001b[A\u001b[A\u001b[A\n",
      "\n",
      "\n",
      "\n",
      " 85%|████████▌ | 128/150 [09:06<01:35,  4.32s/it]\u001b[A\u001b[A\u001b[A\u001b[A"
     ]
    },
    {
     "name": "stdout",
     "output_type": "stream",
     "text": [
      "RBG : budget still not found on IMDB.\n",
      "Strange Magic : budget still not found on IMDB.\n",
      "The Lighthouse : budget still not found on IMDB.\n"
     ]
    },
    {
     "name": "stderr",
     "output_type": "stream",
     "text": [
      "\n",
      "\n",
      "\n",
      "\n",
      " 86%|████████▌ | 129/150 [09:10<01:32,  4.41s/it]\u001b[A\u001b[A\u001b[A\u001b[A"
     ]
    },
    {
     "name": "stdout",
     "output_type": "stream",
     "text": [
      "Greta : budget still not found on IMDB.\n",
      "Dark Waters : budget still not found on IMDB.\n"
     ]
    },
    {
     "name": "stderr",
     "output_type": "stream",
     "text": [
      "\n",
      "\n",
      "\n",
      "\n",
      " 87%|████████▋ | 130/150 [09:19<01:56,  5.81s/it]\u001b[A\u001b[A\u001b[A\u001b[A\n",
      "\n",
      "\n",
      "\n",
      " 89%|████████▊ | 133/150 [09:24<01:16,  4.49s/it]\u001b[A\u001b[A\u001b[A\u001b[A"
     ]
    },
    {
     "name": "stdout",
     "output_type": "stream",
     "text": [
      "Padmaavat : budget still not found on IMDB.\n",
      "Three Identical Strangers : budget still not found on IMDB.\n",
      "Hotel Mumbai : budget still not found on IMDB.\n"
     ]
    },
    {
     "name": "stderr",
     "output_type": "stream",
     "text": [
      "\n",
      "\n",
      "\n",
      "\n",
      " 89%|████████▉ | 134/150 [09:30<01:20,  5.04s/it]\u001b[A\u001b[A\u001b[A\u001b[A"
     ]
    },
    {
     "name": "stdout",
     "output_type": "stream",
     "text": [
      "No manches Frida : budget still not found on IMDB.\n",
      "Apollo 11 : budget still not found on IMDB.\n",
      "Free Solo : budget still not found on IMDB.\n",
      "The Old Man & the Gun : budget still not found on IMDB.\n",
      "No Manches Frida 2 : budget still not found on IMDB.\n"
     ]
    },
    {
     "name": "stderr",
     "output_type": "stream",
     "text": [
      "\n",
      "\n",
      "\n",
      "\n",
      " 91%|█████████▏| 137/150 [09:43<01:02,  4.82s/it]\u001b[A\u001b[A\u001b[A\u001b[A\n",
      "\n",
      "\n",
      "\n",
      " 92%|█████████▏| 138/150 [09:45<00:47,  3.95s/it]\u001b[A\u001b[A\u001b[A\u001b[A"
     ]
    },
    {
     "name": "stdout",
     "output_type": "stream",
     "text": [
      "The Miracle Season : budget still not found on IMDB.\n",
      "Amy : budget still not found on IMDB.\n",
      "Brittany Runs a Marathon : budget still not found on IMDB.\n",
      "PK : budget still not found on IMDB.\n",
      "Bajrangi Bhaijaan : budget still not found on IMDB.\n",
      "The Dead Don't Die : budget still not found on IMDB.\n",
      "Penguins : budget still not found on IMDB.\n"
     ]
    },
    {
     "name": "stderr",
     "output_type": "stream",
     "text": [
      "\n",
      "\n",
      "\n",
      "\n",
      " 95%|█████████▍| 142/150 [10:09<00:36,  4.59s/it]\u001b[A\u001b[A\u001b[A\u001b[A"
     ]
    },
    {
     "name": "stdout",
     "output_type": "stream",
     "text": [
      "I Am Not Your Negro : budget still not found on IMDB.\n"
     ]
    },
    {
     "name": "stderr",
     "output_type": "stream",
     "text": [
      "\n",
      "\n",
      "\n",
      "\n",
      " 97%|█████████▋| 146/150 [10:12<00:13,  3.46s/it]\u001b[A\u001b[A\u001b[A\u001b[A"
     ]
    },
    {
     "name": "stdout",
     "output_type": "stream",
     "text": [
      "Run the Race : budget still not found on IMDB.\n"
     ]
    },
    {
     "name": "stderr",
     "output_type": "stream",
     "text": [
      "\n",
      "\n",
      "\n",
      "\n",
      " 98%|█████████▊| 147/150 [10:16<00:10,  3.58s/it]\u001b[A\u001b[A\u001b[A\u001b[A"
     ]
    },
    {
     "name": "stdout",
     "output_type": "stream",
     "text": [
      "Island of Lemurs: Madagascar : budget still not found on IMDB.\n",
      "I'll See You in My Dreams : budget still not found on IMDB.\n",
      "The Wife : budget still not found on IMDB.\n",
      "Beatriz at Dinner : budget still not found on IMDB.\n"
     ]
    },
    {
     "name": "stderr",
     "output_type": "stream",
     "text": [
      "\n",
      "\n",
      "\n",
      "\n",
      " 99%|█████████▊| 148/150 [10:29<00:12,  6.39s/it]\u001b[A\u001b[A\u001b[A\u001b[A\n",
      "\n",
      "\n",
      "\n",
      "100%|██████████| 150/150 [10:30<00:00,  4.20s/it]\u001b[A\u001b[A\u001b[A\u001b[A\n"
     ]
    },
    {
     "name": "stdout",
     "output_type": "stream",
     "text": [
      "Finished. Time: 10.5 min.\n"
     ]
    }
   ],
   "source": [
    "# First process movies after 2014\n",
    "df = pd.read_csv('./data/movie_list/_movie_list_2000-2019.csv')\n",
    "df = df[df.Year >= 2014]\n",
    "df['tt_id'] = None\n",
    "df['rl_id'] = None\n",
    "df['release_date'] = None\n",
    "df['company'] = None\n",
    "df['mpaa'] = None\n",
    "df['genres'] = None\n",
    "df['runtime'] = None\n",
    "df['director'] = None\n",
    "df['actors'] = None\n",
    "df['budget'] = None\n",
    "df['bo_opening'] = None\n",
    "df['bo_gross'] = None\n",
    "df['imdb_score'] = None\n",
    "\n",
    "def add_info_chunk(df):\n",
    "    for i in range(df.shape[0]):\n",
    "        title = df['Title'].iloc[i]\n",
    "        year = df['Year'].iloc[i]\n",
    "        movie = mojo_api.Movie()\n",
    "        movie.get_train_movie_info(title, year)\n",
    "        df.loc[i, 'tt_id'] = movie.tt_id\n",
    "        df.loc[i, 'rl_id'] = movie.rl_id\n",
    "        df.loc[i, 'release_date'] = movie.release_date\n",
    "        df.loc[i, 'company'] = movie.company\n",
    "        df.loc[i, 'mpaa'] = movie.mpaa\n",
    "        df.loc[i, 'genres'] = movie.genres\n",
    "        df.loc[i, 'runtime'] = movie.movie_length\n",
    "        df.loc[i, 'director'] = movie.director\n",
    "        df.loc[i, 'actors'] = movie.actors\n",
    "        df.loc[i, 'budget'] = movie.budget\n",
    "        df.loc[i, 'bo_opening'] = movie.bo_opening\n",
    "        df.loc[i, 'bo_gross'] = movie.bo_gross\n",
    "        df.loc[i, 'imdb_score'] = movie.imdb_score\n",
    "#     print(i, movie.title)\n",
    "    return df\n",
    "\n",
    "time_start = time()\n",
    "top = 150\n",
    "with Pool(cpu_count()) as p:\n",
    "    total = top #df.shape[1]\n",
    "    chunks = list(tqdm.tqdm(\n",
    "                p.imap(add_info_chunk, [df[df['Rank'] == i].reset_index(drop=True) for i in range(1, top+1)]), total=total))\n",
    "time_end = time()\n",
    "time_run = (time_end - time_start) / 60\n",
    "print(\"Finished. Time: {0:.1f} min.\".format(time_run))\n",
    "\n",
    "df_filled = pd.DataFrame()\n",
    "for chunk in chunks:\n",
    "    df_filled = pd.concat([df_filled, chunk])\n",
    "df_filled = df_filled.sort_values(['Year', 'Rank'])\n",
    "df_filled = df_filled.reset_index(drop=True)\n",
    "df_filled = df_filled[~df_filled['tt_id'].isnull()]\n",
    "df_filled = df_filled[~df_filled['rl_id'].isnull()]\n",
    "df_filled = df_filled[~df_filled['budget'].isnull()]\n",
    "df_filled = df_filled[~df_filled['release_date'].isnull()]\n",
    "df_filled = df_filled[~df_filled['bo_opening'].isnull()]\n",
    "df_filled = df_filled[~df_filled['bo_gross'].isnull()]\n",
    "df_filled.to_csv('./data/movie_list/metadata_2014-2019.csv', index=False)"
   ]
  },
  {
   "cell_type": "code",
   "execution_count": 32,
   "metadata": {},
   "outputs": [
    {
     "name": "stderr",
     "output_type": "stream",
     "text": [
      "\n",
      "\n",
      "\n",
      "\n",
      "  0%|          | 0/80 [00:00<?, ?it/s]\u001b[A\u001b[A\u001b[A\u001b[A"
     ]
    },
    {
     "name": "stdout",
     "output_type": "stream",
     "text": [
      "imdb_id not found. title: Iron Man 3, year: 2013.\n"
     ]
    },
    {
     "name": "stderr",
     "output_type": "stream",
     "text": [
      "\n",
      "\n",
      "\n",
      "\n",
      "  1%|▏         | 1/80 [00:11<15:13, 11.56s/it]\u001b[A\u001b[A\u001b[A\u001b[A\n",
      "\n",
      "\n",
      "\n",
      "  2%|▎         | 2/80 [00:17<12:56,  9.96s/it]\u001b[A\u001b[A\u001b[A\u001b[A\n",
      "\n",
      "\n",
      "\n",
      "  4%|▍         | 3/80 [00:17<09:00,  7.02s/it]\u001b[A\u001b[A\u001b[A\u001b[A\n",
      "\n",
      "\n",
      "\n",
      "  6%|▋         | 5/80 [00:27<07:53,  6.31s/it]\u001b[A\u001b[A\u001b[A\u001b[A\n",
      "\n",
      "\n",
      "\n",
      "  8%|▊         | 6/80 [00:29<06:14,  5.06s/it]\u001b[A\u001b[A\u001b[A\u001b[A"
     ]
    },
    {
     "name": "stdout",
     "output_type": "stream",
     "text": [
      "imdb_id not found. title: Fast & Furious 6, year: 2013.\n"
     ]
    },
    {
     "name": "stderr",
     "output_type": "stream",
     "text": [
      "\n",
      "\n",
      "\n",
      "\n",
      "  9%|▉         | 7/80 [00:33<05:49,  4.78s/it]\u001b[A\u001b[A\u001b[A\u001b[A\n",
      "\n",
      "\n",
      "\n",
      " 11%|█▏        | 9/80 [00:43<05:41,  4.82s/it]\u001b[A\u001b[A\u001b[A\u001b[A\n",
      "\n",
      "\n",
      "\n",
      " 12%|█▎        | 10/80 [00:47<05:15,  4.51s/it]\u001b[A\u001b[A\u001b[A\u001b[A\n",
      "\n",
      "\n",
      "\n",
      " 15%|█▌        | 12/80 [00:49<04:03,  3.58s/it]\u001b[A\u001b[A\u001b[A\u001b[A"
     ]
    },
    {
     "name": "stdout",
     "output_type": "stream",
     "text": [
      "imdb_id not found. title: X-Men: First Class, year: 2011.\n"
     ]
    },
    {
     "name": "stderr",
     "output_type": "stream",
     "text": [
      "\n",
      "\n",
      "\n",
      "\n",
      " 16%|█▋        | 13/80 [01:00<06:10,  5.52s/it]\u001b[A\u001b[A\u001b[A\u001b[A\n",
      "\n",
      "\n",
      "\n",
      " 18%|█▊        | 14/80 [01:01<04:38,  4.22s/it]\u001b[A\u001b[A\u001b[A\u001b[A\n",
      "\n",
      "\n",
      "\n",
      " 19%|█▉        | 15/80 [01:06<04:50,  4.47s/it]\u001b[A\u001b[A\u001b[A\u001b[A\n",
      "\n",
      "\n",
      "\n",
      " 20%|██        | 16/80 [01:07<03:38,  3.41s/it]\u001b[A\u001b[A\u001b[A\u001b[A\n",
      "\n",
      "\n",
      "\n",
      " 21%|██▏       | 17/80 [01:13<04:31,  4.32s/it]\u001b[A\u001b[A\u001b[A\u001b[A\n",
      "\n",
      "\n",
      "\n",
      " 22%|██▎       | 18/80 [01:15<03:44,  3.62s/it]\u001b[A\u001b[A\u001b[A\u001b[A\n",
      "\n",
      "\n",
      "\n",
      " 24%|██▍       | 19/80 [01:23<04:52,  4.80s/it]\u001b[A\u001b[A\u001b[A\u001b[A\n",
      "\n",
      "\n",
      "\n",
      " 26%|██▋       | 21/80 [01:27<03:53,  3.96s/it]\u001b[A\u001b[A\u001b[A\u001b[A\n",
      "\n",
      "\n",
      "\n",
      " 29%|██▉       | 23/80 [01:32<03:25,  3.60s/it]\u001b[A\u001b[A\u001b[A\u001b[A\n",
      "\n",
      "\n",
      "\n",
      " 30%|███       | 24/80 [01:39<04:10,  4.48s/it]\u001b[A\u001b[A\u001b[A\u001b[A"
     ]
    },
    {
     "name": "stdout",
     "output_type": "stream",
     "text": [
      "imdb_id not found. title: Lee Daniels' The Butler, year: 2013.\n"
     ]
    },
    {
     "name": "stderr",
     "output_type": "stream",
     "text": [
      "\n",
      "\n",
      "\n",
      "\n",
      " 31%|███▏      | 25/80 [01:40<03:15,  3.55s/it]\u001b[A\u001b[A\u001b[A\u001b[A\n",
      "\n",
      "\n",
      "\n",
      " 34%|███▍      | 27/80 [01:45<02:47,  3.16s/it]\u001b[A\u001b[A\u001b[A\u001b[A\n",
      "\n",
      "\n",
      "\n",
      " 35%|███▌      | 28/80 [01:48<02:49,  3.26s/it]\u001b[A\u001b[A\u001b[A\u001b[A\n",
      "\n",
      "\n",
      "\n",
      " 36%|███▋      | 29/80 [01:50<02:21,  2.77s/it]\u001b[A\u001b[A\u001b[A\u001b[A\n",
      "\n",
      "\n",
      "\n",
      " 38%|███▊      | 30/80 [01:52<02:15,  2.70s/it]\u001b[A\u001b[A\u001b[A\u001b[A"
     ]
    },
    {
     "name": "stdout",
     "output_type": "stream",
     "text": [
      "imdb_id not found. title: The Lion King  2011 3D Release, year: 2011.\n"
     ]
    },
    {
     "name": "stderr",
     "output_type": "stream",
     "text": [
      "\n",
      "\n",
      "\n",
      "\n",
      " 39%|███▉      | 31/80 [02:00<03:33,  4.35s/it]\u001b[A\u001b[A\u001b[A\u001b[A\n",
      "\n",
      "\n",
      "\n",
      " 40%|████      | 32/80 [02:01<02:37,  3.28s/it]\u001b[A\u001b[A\u001b[A\u001b[A\n",
      "\n",
      "\n",
      "\n",
      " 42%|████▎     | 34/80 [02:07<02:22,  3.11s/it]\u001b[A\u001b[A\u001b[A\u001b[A\n",
      "\n",
      "\n",
      "\n",
      " 44%|████▍     | 35/80 [02:12<02:47,  3.73s/it]\u001b[A\u001b[A\u001b[A\u001b[A\n",
      "\n",
      "\n",
      "\n",
      " 46%|████▋     | 37/80 [02:15<02:14,  3.12s/it]\u001b[A\u001b[A\u001b[A\u001b[A\n",
      "\n",
      "\n",
      "\n",
      " 48%|████▊     | 38/80 [02:21<02:46,  3.96s/it]\u001b[A\u001b[A\u001b[A\u001b[A\n",
      "\n",
      "\n",
      "\n",
      " 49%|████▉     | 39/80 [02:24<02:33,  3.74s/it]\u001b[A\u001b[A\u001b[A\u001b[A\n",
      "\n",
      "\n",
      "\n",
      " 50%|█████     | 40/80 [02:26<01:58,  2.96s/it]\u001b[A\u001b[A\u001b[A\u001b[A\n",
      "\n",
      "\n",
      "\n",
      " 51%|█████▏    | 41/80 [02:29<01:59,  3.06s/it]\u001b[A\u001b[A\u001b[A\u001b[A\n",
      "\n",
      "\n",
      "\n",
      " 52%|█████▎    | 42/80 [02:33<02:10,  3.43s/it]\u001b[A\u001b[A\u001b[A\u001b[A\n",
      "\n",
      "\n",
      "\n",
      " 54%|█████▍    | 43/80 [02:38<02:27,  4.00s/it]\u001b[A\u001b[A\u001b[A\u001b[A\n",
      "\n",
      "\n",
      "\n",
      " 56%|█████▋    | 45/80 [02:39<01:43,  2.95s/it]\u001b[A\u001b[A\u001b[A\u001b[A\n",
      "\n",
      "\n",
      "\n",
      " 57%|█████▊    | 46/80 [02:41<01:25,  2.50s/it]\u001b[A\u001b[A\u001b[A\u001b[A\n",
      "\n",
      "\n",
      "\n",
      " 59%|█████▉    | 47/80 [02:49<02:19,  4.22s/it]\u001b[A\u001b[A\u001b[A\u001b[A\n",
      "\n",
      "\n",
      "\n",
      " 61%|██████▏   | 49/80 [02:52<01:43,  3.35s/it]\u001b[A\u001b[A\u001b[A\u001b[A\n",
      "\n",
      "\n",
      "\n",
      " 64%|██████▍   | 51/80 [02:56<01:24,  2.91s/it]\u001b[A\u001b[A\u001b[A\u001b[A"
     ]
    },
    {
     "name": "stdout",
     "output_type": "stream",
     "text": [
      "imdb_id not found. title: Titanic  2012 3D Release, year: 2012.\n"
     ]
    },
    {
     "name": "stderr",
     "output_type": "stream",
     "text": [
      "\n",
      "\n",
      "\n",
      "\n",
      " 65%|██████▌   | 52/80 [03:00<01:35,  3.41s/it]\u001b[A\u001b[A\u001b[A\u001b[A\n",
      "\n",
      "\n",
      "\n",
      " 68%|██████▊   | 54/80 [03:06<01:23,  3.21s/it]\u001b[A\u001b[A\u001b[A\u001b[A\n",
      "\n",
      "\n",
      "\n",
      " 70%|███████   | 56/80 [03:11<01:12,  3.02s/it]\u001b[A\u001b[A\u001b[A\u001b[A\n",
      "\n",
      "\n",
      "\n",
      " 72%|███████▎  | 58/80 [03:17<01:08,  3.11s/it]\u001b[A\u001b[A\u001b[A\u001b[A\n",
      "\n",
      "\n",
      "\n",
      " 74%|███████▍  | 59/80 [03:19<00:59,  2.81s/it]\u001b[A\u001b[A\u001b[A\u001b[A\n",
      "\n",
      "\n",
      "\n",
      " 75%|███████▌  | 60/80 [03:23<01:00,  3.02s/it]\u001b[A\u001b[A\u001b[A\u001b[A\n",
      "\n",
      "\n",
      "\n",
      " 78%|███████▊  | 62/80 [03:26<00:45,  2.53s/it]\u001b[A\u001b[A\u001b[A\u001b[A\n",
      "\n",
      "\n",
      "\n",
      " 79%|███████▉  | 63/80 [03:29<00:44,  2.59s/it]\u001b[A\u001b[A\u001b[A\u001b[A\n",
      "\n",
      "\n",
      "\n",
      " 80%|████████  | 64/80 [03:32<00:48,  3.00s/it]\u001b[A\u001b[A\u001b[A\u001b[A\n",
      "\n",
      "\n",
      "\n",
      " 81%|████████▏ | 65/80 [03:34<00:40,  2.68s/it]\u001b[A\u001b[A\u001b[A\u001b[A"
     ]
    },
    {
     "name": "stdout",
     "output_type": "stream",
     "text": [
      "Temptation: Confessions of a Marriage Counselor : budget still not found on IMDB.\n"
     ]
    },
    {
     "name": "stderr",
     "output_type": "stream",
     "text": [
      "\n",
      "\n",
      "\n",
      "\n",
      " 82%|████████▎ | 66/80 [03:37<00:37,  2.69s/it]\u001b[A\u001b[A\u001b[A\u001b[A"
     ]
    },
    {
     "name": "stdout",
     "output_type": "stream",
     "text": [
      "imdb_id not found. title: Beauty and the Beast  2012 3D Release, year: 2012.\n"
     ]
    },
    {
     "name": "stderr",
     "output_type": "stream",
     "text": [
      "\n",
      "\n",
      "\n",
      "\n",
      " 85%|████████▌ | 68/80 [03:46<00:39,  3.28s/it]\u001b[A\u001b[A\u001b[A\u001b[A\n",
      "\n",
      "\n",
      "\n",
      " 89%|████████▉ | 71/80 [03:51<00:24,  2.76s/it]\u001b[A\u001b[A\u001b[A\u001b[A\n",
      "\n",
      "\n",
      "\n",
      " 90%|█████████ | 72/80 [03:52<00:17,  2.13s/it]\u001b[A\u001b[A\u001b[A\u001b[A\n",
      "\n",
      "\n",
      "\n",
      " 91%|█████████▏| 73/80 [03:57<00:21,  3.06s/it]\u001b[A\u001b[A\u001b[A\u001b[A\n",
      "\n",
      "\n",
      "\n",
      " 94%|█████████▍| 75/80 [04:00<00:12,  2.56s/it]\u001b[A\u001b[A\u001b[A\u001b[A\n",
      "\n",
      "\n",
      "\n",
      " 95%|█████████▌| 76/80 [04:01<00:08,  2.08s/it]\u001b[A\u001b[A\u001b[A\u001b[A"
     ]
    },
    {
     "name": "stdout",
     "output_type": "stream",
     "text": [
      "imdb_id not found. title: Star Wars: Episode I - The Phantom Menace  2012 3D Release, year: 2012.\n"
     ]
    },
    {
     "name": "stderr",
     "output_type": "stream",
     "text": [
      "\n",
      "\n",
      "\n",
      "\n",
      " 98%|█████████▊| 78/80 [04:06<00:04,  2.32s/it]\u001b[A\u001b[A\u001b[A\u001b[A\n",
      "\n",
      "\n",
      "\n",
      "100%|██████████| 80/80 [04:09<00:00,  3.12s/it]\u001b[A\u001b[A\u001b[A\u001b[A"
     ]
    },
    {
     "name": "stdout",
     "output_type": "stream",
     "text": [
      "Finished. Time: 4.2 min.\n"
     ]
    },
    {
     "name": "stderr",
     "output_type": "stream",
     "text": [
      "\n"
     ]
    }
   ],
   "source": [
    "# Then process movies before 2014\n",
    "year_start = 2010\n",
    "year_end = 2014\n",
    "df = pd.read_csv('./data/movie_list/_movie_list_2000-2019.csv')\n",
    "df = df[df.Year >= year_start]\n",
    "df = df[df.Year < year_end]\n",
    "df['tt_id'] = None\n",
    "df['rl_id'] = None\n",
    "df['release_date'] = None\n",
    "df['company'] = None\n",
    "df['mpaa'] = None\n",
    "df['genres'] = None\n",
    "df['runtime'] = None\n",
    "df['director'] = None\n",
    "df['actors'] = None\n",
    "df['budget'] = None\n",
    "df['bo_opening'] = None\n",
    "df['bo_gross'] = None\n",
    "df['imdb_score'] = None\n",
    "\n",
    "def add_info_chunk(df):\n",
    "    for i in range(df.shape[0]):\n",
    "        title = df['Title'].iloc[i]\n",
    "        year = df['Year'].iloc[i]\n",
    "        movie = mojo_api.Movie()\n",
    "        movie.get_train_movie_info(title, year)\n",
    "        df.loc[i, 'tt_id'] = movie.tt_id\n",
    "        df.loc[i, 'rl_id'] = movie.rl_id\n",
    "        df.loc[i, 'release_date'] = movie.release_date\n",
    "        df.loc[i, 'company'] = movie.company\n",
    "        df.loc[i, 'mpaa'] = movie.mpaa\n",
    "        df.loc[i, 'genres'] = movie.genres\n",
    "        df.loc[i, 'runtime'] = movie.movie_length\n",
    "        df.loc[i, 'director'] = movie.director\n",
    "        df.loc[i, 'actors'] = movie.actors\n",
    "        df.loc[i, 'budget'] = movie.budget\n",
    "        df.loc[i, 'bo_opening'] = movie.bo_opening\n",
    "        df.loc[i, 'bo_gross'] = movie.bo_gross\n",
    "        df.loc[i, 'imdb_score'] = movie.imdb_score\n",
    "#     print(i, movie.title)\n",
    "    return df\n",
    "\n",
    "time_start = time()\n",
    "top = 80\n",
    "with Pool(cpu_count()) as p:\n",
    "    total = top #df.shape[1]\n",
    "    chunks = list(tqdm.tqdm(\n",
    "                p.imap(add_info_chunk, [df[df['Rank'] == i].reset_index(drop=True) for i in range(1, top+1)]), total=total))\n",
    "time_end = time()\n",
    "time_run = (time_end - time_start) / 60\n",
    "print(\"Finished. Time: {0:.1f} min.\".format(time_run))\n",
    "\n",
    "df_filled = pd.DataFrame()\n",
    "for chunk in chunks:\n",
    "    df_filled = pd.concat([df_filled, chunk])\n",
    "df_filled = df_filled.sort_values(['Year', 'Rank'])\n",
    "df_filled = df_filled.reset_index(drop=True)\n",
    "df_filled = df_filled[~df_filled['tt_id'].isnull()]\n",
    "df_filled = df_filled[~df_filled['rl_id'].isnull()]\n",
    "df_filled = df_filled[~df_filled['budget'].isnull()]\n",
    "df_filled = df_filled[~df_filled['release_date'].isnull()]\n",
    "df_filled = df_filled[~df_filled['bo_opening'].isnull()]\n",
    "df_filled = df_filled[~df_filled['bo_gross'].isnull()]\n",
    "df_filled.to_csv('./data/movie_list/metadata_{}-{}.csv'.format(year_start, year_end-1), index=False)"
   ]
  },
  {
   "cell_type": "code",
   "execution_count": 3,
   "metadata": {},
   "outputs": [],
   "source": [
    "df_p1 = pd.read_csv('./data/movie_list/metadata_2000-2004.csv')\n",
    "df_p2 = pd.read_csv('./data/movie_list/metadata_2005-2009.csv')\n",
    "df_p3 = pd.read_csv('./data/movie_list/metadata_2010-2013.csv')\n",
    "df_p4 = pd.read_csv('./data/movie_list/metadata_2014-2019.csv')\n",
    "df = pd.concat([df_p1, df_p2, df_p3, df_p4])\n",
    "df = df.sort_values(['Year', 'Rank'])\n",
    "df = df.reset_index(drop=True)\n",
    "df.to_csv('./data/movie_list/metadata_2000-2019.csv', index=False)"
   ]
  },
  {
   "cell_type": "code",
   "execution_count": null,
   "metadata": {},
   "outputs": [],
   "source": []
  }
 ],
 "metadata": {
  "kernelspec": {
   "display_name": "Python 3",
   "language": "python",
   "name": "python3"
  },
  "language_info": {
   "codemirror_mode": {
    "name": "ipython",
    "version": 3
   },
   "file_extension": ".py",
   "mimetype": "text/x-python",
   "name": "python",
   "nbconvert_exporter": "python",
   "pygments_lexer": "ipython3",
   "version": "3.7.6"
  }
 },
 "nbformat": 4,
 "nbformat_minor": 4
}
