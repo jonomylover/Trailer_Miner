{
 "cells": [
  {
   "cell_type": "code",
   "execution_count": 1,
   "metadata": {},
   "outputs": [],
   "source": [
    "from time import time\n",
    "from multiprocessing import Pool, cpu_count\n",
    "import tqdm  # show multi-processing progress bar\n",
    "\n",
    "import pandas as pd\n",
    "\n",
    "import mojo_api\n",
    "\n",
    "# for auto reload a module after editing.\n",
    "%load_ext autoreload\n",
    "%autoreload 2"
   ]
  },
  {
   "cell_type": "code",
   "execution_count": 2,
   "metadata": {},
   "outputs": [
    {
     "name": "stdout",
     "output_type": "stream",
     "text": [
      "Finished collecting movie list of 2013, movie number: 802\n",
      "Finished collecting movie list of 2014, movie number: 808\n",
      "Finished collecting movie list of 2015, movie number: 803\n",
      "Finished collecting movie list of 2016, movie number: 811\n",
      "Finished collecting movie list of 2017, movie number: 816\n",
      "Finished collecting movie list of 2018, movie number: 908\n",
      "Finished collecting movie list of 2019, movie number: 833\n"
     ]
    }
   ],
   "source": [
    "df = pd.DataFrame()\n",
    "year_start = 2014\n",
    "year_end = 2019\n",
    "for year in range(year_start - 1, year_end + 1):\n",
    "    year_df = mojo_api.get_movie_list(year)\n",
    "    year_df.to_csv('./data/_movie_list_{}.csv'.format(year), index=False)\n",
    "    print(\"Finished collecting movie list of {}, movie number: {}\".format(year, year_df.shape[0]))\n",
    "    df = pd.concat([df, year_df])"
   ]
  },
  {
   "cell_type": "code",
   "execution_count": 3,
   "metadata": {},
   "outputs": [],
   "source": [
    "# A movie title can appear across two years. Need to remove duplicate.\n",
    "df_remove_dup = df.groupby('Title').agg({\n",
    "    'Year': 'first',\n",
    "    'Rank': 'first',\n",
    "    'Title': 'first'\n",
    "})\n",
    "top = 150\n",
    "df_remove_dup = df_remove_dup.sort_values(['Year', 'Rank'])\n",
    "df_remove_dup = df_remove_dup[df_remove_dup['Year'] >= year_start]\n",
    "df_remove_dup = df_remove_dup[df_remove_dup['Rank'] <= top]\n",
    "df_remove_dup.to_csv('./data/_movie_list_all.csv', index=False)"
   ]
  },
  {
   "cell_type": "code",
   "execution_count": 4,
   "metadata": {},
   "outputs": [],
   "source": [
    "df = pd.read_csv('./data/_movie_list_all.csv')\n",
    "df['tt_id'] = None\n",
    "df['rl_id'] = None\n",
    "df['release_date'] = None\n",
    "df['company'] = None\n",
    "df['mpaa'] = None\n",
    "df['genres'] = None\n",
    "df['director'] = None\n",
    "df['actors'] = None\n",
    "df['budget'] = None\n",
    "df['bo_opening'] = None\n",
    "df['bo_gross'] = None\n",
    "df['imdb_score'] = None"
   ]
  },
  {
   "cell_type": "code",
   "execution_count": 5,
   "metadata": {},
   "outputs": [
    {
     "name": "stderr",
     "output_type": "stream",
     "text": [
      "  1%|          | 1/150 [00:19<49:24, 19.90s/it]"
     ]
    },
    {
     "name": "stdout",
     "output_type": "stream",
     "text": [
      "imdb_id not found. title: Star Wars: Episode IX - The Rise of Skywalker, year: 2019.\n"
     ]
    },
    {
     "name": "stderr",
     "output_type": "stream",
     "text": [
      " 16%|█▌        | 24/150 [01:52<05:29,  2.62s/it]"
     ]
    },
    {
     "name": "stdout",
     "output_type": "stream",
     "text": [
      "imdb_id not found. title: The Angry Birds Movie, year: 2016.\n"
     ]
    },
    {
     "name": "stderr",
     "output_type": "stream",
     "text": [
      " 17%|█▋        | 25/150 [02:04<10:59,  5.28s/it]"
     ]
    },
    {
     "name": "stdout",
     "output_type": "stream",
     "text": [
      "imdb_id not found. title: The Upside, year: 2019.\n"
     ]
    },
    {
     "name": "stderr",
     "output_type": "stream",
     "text": [
      " 23%|██▎       | 34/150 [02:41<08:15,  4.27s/it]"
     ]
    },
    {
     "name": "stdout",
     "output_type": "stream",
     "text": [
      "imdb_id not found. title: A Madea Family Funeral, year: 2019.\n"
     ]
    },
    {
     "name": "stderr",
     "output_type": "stream",
     "text": [
      " 58%|█████▊    | 87/150 [05:50<04:21,  4.15s/it]"
     ]
    },
    {
     "name": "stdout",
     "output_type": "stream",
     "text": [
      "Isle of Dogs : budget still not found on IMDB.\n"
     ]
    },
    {
     "name": "stderr",
     "output_type": "stream",
     "text": [
      " 61%|██████    | 91/150 [06:03<03:30,  3.57s/it]"
     ]
    },
    {
     "name": "stdout",
     "output_type": "stream",
     "text": [
      "Judy : budget still not found on IMDB.\n"
     ]
    },
    {
     "name": "stderr",
     "output_type": "stream",
     "text": [
      " 65%|██████▍   | 97/150 [06:21<03:23,  3.85s/it]"
     ]
    },
    {
     "name": "stdout",
     "output_type": "stream",
     "text": [
      "imdb_id not found. title: The Witch, year: 2016.\n"
     ]
    },
    {
     "name": "stderr",
     "output_type": "stream",
     "text": [
      " 69%|██████▊   | 103/150 [06:49<03:40,  4.69s/it]"
     ]
    },
    {
     "name": "stdout",
     "output_type": "stream",
     "text": [
      "Won't You Be My Neighbor? : budget still not found on IMDB.\n"
     ]
    },
    {
     "name": "stderr",
     "output_type": "stream",
     "text": [
      " 75%|███████▍  | 112/150 [07:20<02:25,  3.82s/it]"
     ]
    },
    {
     "name": "stdout",
     "output_type": "stream",
     "text": [
      "The Farewell : budget still not found on IMDB.\n"
     ]
    },
    {
     "name": "stderr",
     "output_type": "stream",
     "text": [
      " 75%|███████▌  | 113/150 [07:20<01:42,  2.76s/it]"
     ]
    },
    {
     "name": "stdout",
     "output_type": "stream",
     "text": [
      "The Choice : budget still not found on IMDB.\n"
     ]
    },
    {
     "name": "stderr",
     "output_type": "stream",
     "text": [
      " 77%|███████▋  | 116/150 [07:35<02:30,  4.44s/it]"
     ]
    },
    {
     "name": "stdout",
     "output_type": "stream",
     "text": [
      "imdb_id not found. title: The Transporter Refuelled, year: 2015.\n",
      "Monkey Kingdom : budget still not found on IMDB.\n"
     ]
    },
    {
     "name": "stderr",
     "output_type": "stream",
     "text": [
      " 80%|████████  | 120/150 [07:52<02:12,  4.43s/it]"
     ]
    },
    {
     "name": "stdout",
     "output_type": "stream",
     "text": [
      "Megan Leavey : budget still not found on IMDB.\n"
     ]
    },
    {
     "name": "stderr",
     "output_type": "stream",
     "text": [
      " 84%|████████▍ | 126/150 [08:14<01:31,  3.81s/it]"
     ]
    },
    {
     "name": "stdout",
     "output_type": "stream",
     "text": [
      "RBG : budget still not found on IMDB.\n",
      "Strange Magic : budget still not found on IMDB.\n"
     ]
    },
    {
     "name": "stderr",
     "output_type": "stream",
     "text": [
      " 85%|████████▍ | 127/150 [08:23<02:01,  5.28s/it]"
     ]
    },
    {
     "name": "stdout",
     "output_type": "stream",
     "text": [
      "The Lighthouse : budget still not found on IMDB.\n"
     ]
    },
    {
     "name": "stderr",
     "output_type": "stream",
     "text": [
      " 86%|████████▌ | 129/150 [08:23<01:19,  3.77s/it]"
     ]
    },
    {
     "name": "stdout",
     "output_type": "stream",
     "text": [
      "Greta : budget still not found on IMDB.\n",
      "Dark Waters : budget still not found on IMDB.\n"
     ]
    },
    {
     "name": "stderr",
     "output_type": "stream",
     "text": [
      " 87%|████████▋ | 130/150 [08:34<01:55,  5.79s/it]"
     ]
    },
    {
     "name": "stdout",
     "output_type": "stream",
     "text": [
      "Padmaavat : budget still not found on IMDB.\n"
     ]
    },
    {
     "name": "stderr",
     "output_type": "stream",
     "text": [
      " 89%|████████▊ | 133/150 [08:40<01:19,  4.68s/it]"
     ]
    },
    {
     "name": "stdout",
     "output_type": "stream",
     "text": [
      "Three Identical Strangers : budget still not found on IMDB.\n",
      "Hotel Mumbai : budget still not found on IMDB.\n"
     ]
    },
    {
     "name": "stderr",
     "output_type": "stream",
     "text": [
      " 90%|█████████ | 135/150 [08:49<01:03,  4.25s/it]"
     ]
    },
    {
     "name": "stdout",
     "output_type": "stream",
     "text": [
      "No manches Frida : budget still not found on IMDB.\n",
      "The Old Man & the Gun : budget still not found on IMDB.\n",
      "Free Solo : budget still not found on IMDB.\n",
      "Apollo 11 : budget still not found on IMDB.\n",
      "No Manches Frida 2 : budget still not found on IMDB.\n"
     ]
    },
    {
     "name": "stderr",
     "output_type": "stream",
     "text": [
      " 93%|█████████▎| 140/150 [09:00<00:32,  3.22s/it]"
     ]
    },
    {
     "name": "stdout",
     "output_type": "stream",
     "text": [
      "The Miracle Season : budget still not found on IMDB.\n"
     ]
    },
    {
     "name": "stderr",
     "output_type": "stream",
     "text": [
      " 94%|█████████▍| 141/150 [09:03<00:29,  3.25s/it]"
     ]
    },
    {
     "name": "stdout",
     "output_type": "stream",
     "text": [
      "Amy : budget still not found on IMDB.\n",
      "Brittany Runs a Marathon : budget still not found on IMDB.\n",
      "Bajrangi Bhaijaan : budget still not found on IMDB.\n",
      "PK : budget still not found on IMDB.\n",
      "Penguins : budget still not found on IMDB.\n"
     ]
    },
    {
     "name": "stderr",
     "output_type": "stream",
     "text": [
      " 95%|█████████▍| 142/150 [09:19<00:57,  7.19s/it]"
     ]
    },
    {
     "name": "stdout",
     "output_type": "stream",
     "text": [
      "The Dead Don't Die : budget still not found on IMDB.\n"
     ]
    },
    {
     "name": "stderr",
     "output_type": "stream",
     "text": [
      " 97%|█████████▋| 145/150 [09:20<00:25,  5.13s/it]"
     ]
    },
    {
     "name": "stdout",
     "output_type": "stream",
     "text": [
      "I Am Not Your Negro : budget still not found on IMDB.\n",
      "Island of Lemurs: Madagascar : budget still not found on IMDB.\n",
      "Run the Race : budget still not found on IMDB.\n"
     ]
    },
    {
     "name": "stderr",
     "output_type": "stream",
     "text": [
      " 98%|█████████▊| 147/150 [09:26<00:13,  4.39s/it]"
     ]
    },
    {
     "name": "stdout",
     "output_type": "stream",
     "text": [
      "I'll See You in My Dreams : budget still not found on IMDB.\n",
      "The Wife : budget still not found on IMDB.\n",
      "imdb_id not found. title: The Current War: Director's Cut, year: 2019.\n",
      "Beatriz at Dinner : budget still not found on IMDB.\n"
     ]
    },
    {
     "name": "stderr",
     "output_type": "stream",
     "text": [
      "100%|██████████| 150/150 [09:37<00:00,  3.85s/it]"
     ]
    },
    {
     "name": "stdout",
     "output_type": "stream",
     "text": [
      "Finished. Time: 9.6 min.\n"
     ]
    },
    {
     "name": "stderr",
     "output_type": "stream",
     "text": [
      "\n"
     ]
    }
   ],
   "source": [
    "def add_info_chunk(df):\n",
    "    for i in range(df.shape[0]):\n",
    "        title = df['Title'].iloc[i]\n",
    "        year = df['Year'].iloc[i]\n",
    "        movie = mojo_api.Movie()\n",
    "        movie.get_train_movie_info(title, year)\n",
    "        df.loc[i, 'tt_id'] = movie.tt_id\n",
    "        df.loc[i, 'rl_id'] = movie.rl_id\n",
    "        df.loc[i, 'release_date'] = movie.release_date\n",
    "        df.loc[i, 'company'] = movie.company\n",
    "        df.loc[i, 'mpaa'] = movie.mpaa\n",
    "        df.loc[i, 'genres'] = movie.genres\n",
    "        df.loc[i, 'director'] = movie.director\n",
    "        df.loc[i, 'actors'] = movie.actors\n",
    "        df.loc[i, 'budget'] = movie.budget\n",
    "        df.loc[i, 'bo_opening'] = movie.bo_opening\n",
    "        df.loc[i, 'bo_gross'] = movie.bo_gross\n",
    "        df.loc[i, 'imdb_score'] = movie.imdb_score\n",
    "#     print(i, movie.title)\n",
    "    return df\n",
    "\n",
    "time_start = time()\n",
    "with Pool(cpu_count()) as p:\n",
    "    total = top #df.shape[1]\n",
    "    chunks = list(tqdm.tqdm(\n",
    "                p.imap(add_info_chunk, [df[df['Rank'] == i].reset_index(drop=True) for i in range(1, top+1)]), total=total))\n",
    "time_end = time()\n",
    "time_run = (time_end - time_start) / 60\n",
    "print(\"Finished. Time: {0:.1f} min.\".format(time_run))"
   ]
  },
  {
   "cell_type": "code",
   "execution_count": 10,
   "metadata": {},
   "outputs": [
    {
     "data": {
      "text/html": [
       "<div>\n",
       "<style scoped>\n",
       "    .dataframe tbody tr th:only-of-type {\n",
       "        vertical-align: middle;\n",
       "    }\n",
       "\n",
       "    .dataframe tbody tr th {\n",
       "        vertical-align: top;\n",
       "    }\n",
       "\n",
       "    .dataframe thead th {\n",
       "        text-align: right;\n",
       "    }\n",
       "</style>\n",
       "<table border=\"1\" class=\"dataframe\">\n",
       "  <thead>\n",
       "    <tr style=\"text-align: right;\">\n",
       "      <th></th>\n",
       "      <th>Year</th>\n",
       "      <th>Rank</th>\n",
       "      <th>Title</th>\n",
       "      <th>tt_id</th>\n",
       "      <th>rl_id</th>\n",
       "      <th>release_date</th>\n",
       "      <th>company</th>\n",
       "      <th>mpaa</th>\n",
       "      <th>genres</th>\n",
       "      <th>director</th>\n",
       "      <th>actors</th>\n",
       "      <th>budget</th>\n",
       "      <th>bo_opening</th>\n",
       "      <th>bo_gross</th>\n",
       "      <th>imdb_score</th>\n",
       "    </tr>\n",
       "  </thead>\n",
       "  <tbody>\n",
       "    <tr>\n",
       "      <th>753</th>\n",
       "      <td>2019</td>\n",
       "      <td>113</td>\n",
       "      <td>The Farewell</td>\n",
       "      <td>tt8637428</td>\n",
       "      <td>rl1091143169</td>\n",
       "      <td>2019-07-12</td>\n",
       "      <td>A24</td>\n",
       "      <td>PG</td>\n",
       "      <td>Comedy,Drama</td>\n",
       "      <td>Lulu Wang</td>\n",
       "      <td>Shuzhen Zhao,Awkwafina</td>\n",
       "      <td>None</td>\n",
       "      <td>0.355662</td>\n",
       "      <td>17.6958</td>\n",
       "      <td>7.6</td>\n",
       "    </tr>\n",
       "  </tbody>\n",
       "</table>\n",
       "</div>"
      ],
      "text/plain": [
       "     Year  Rank         Title      tt_id         rl_id release_date company  \\\n",
       "753  2019   113  The Farewell  tt8637428  rl1091143169   2019-07-12     A24   \n",
       "\n",
       "    mpaa        genres   director                  actors budget bo_opening  \\\n",
       "753   PG  Comedy,Drama  Lulu Wang  Shuzhen Zhao,Awkwafina   None   0.355662   \n",
       "\n",
       "    bo_gross imdb_score  \n",
       "753  17.6958        7.6  "
      ]
     },
     "execution_count": 10,
     "metadata": {},
     "output_type": "execute_result"
    }
   ],
   "source": [
    "title = \"The Farewell\"\n",
    "df_filled[df_filled['Title'] == title]"
   ]
  },
  {
   "cell_type": "code",
   "execution_count": 19,
   "metadata": {},
   "outputs": [],
   "source": [
    "df_filled = pd.DataFrame()\n",
    "for chunk in chunks:\n",
    "    df_filled = pd.concat([df_filled, chunk])\n",
    "df_filled = df_filled.sort_values(['Year', 'Rank'])\n",
    "df_filled = df_filled.reset_index(drop=True)\n",
    "df_filled = df_filled[~df_filled['tt_id'].isnull()]\n",
    "df_filled = df_filled[~df_filled['budget'].isnull()]\n",
    "df_filled.to_csv('./data/metadata_2014-2019.csv', index=False)"
   ]
  },
  {
   "cell_type": "code",
   "execution_count": null,
   "metadata": {},
   "outputs": [],
   "source": []
  }
 ],
 "metadata": {
  "kernelspec": {
   "display_name": "Python 3",
   "language": "python",
   "name": "python3"
  },
  "language_info": {
   "codemirror_mode": {
    "name": "ipython",
    "version": 3
   },
   "file_extension": ".py",
   "mimetype": "text/x-python",
   "name": "python",
   "nbconvert_exporter": "python",
   "pygments_lexer": "ipython3",
   "version": "3.7.3"
  }
 },
 "nbformat": 4,
 "nbformat_minor": 4
}
